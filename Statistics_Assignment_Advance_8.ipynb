{
 "cells": [
  {
   "cell_type": "code",
   "execution_count": 4,
   "id": "1d804258-02fb-4c44-a94e-eef509574019",
   "metadata": {},
   "outputs": [],
   "source": [
    "# Q1. Write a Python function that takes in two arrays of data and calculates the F-value for a variance ratio \n",
    "# test. The function should return the F-value and the corresponding p-value for the test\n",
    "\n",
    "import numpy as np\n",
    "from scipy.stats import f\n",
    "\n",
    "def variance_ratio_test(data1, data2):\n",
    "    # Calculate the sample variances\n",
    "    var1 = np.var(data1, ddof=1)\n",
    "    var2 = np.var(data2, ddof=1)\n",
    "\n",
    "    # Calculate the F-value\n",
    "    f_value = var1 / var2\n",
    "\n",
    "    # Calculate the degrees of freedom\n",
    "    df1 = len(data1) - 1\n",
    "    df2 = len(data2) - 1\n",
    "\n",
    "    # Calculate the p-value\n",
    "    p_value = 1 - f.cdf(f_value, df1, df2)\n",
    "\n",
    "    return f_value, p_value\n"
   ]
  },
  {
   "cell_type": "code",
   "execution_count": 5,
   "id": "5fcdc9ff-b606-49eb-8f5f-be4c3717d7be",
   "metadata": {},
   "outputs": [
    {
     "name": "stdout",
     "output_type": "stream",
     "text": [
      "F-value: 0.25\n",
      "p-value: 0.896\n"
     ]
    }
   ],
   "source": [
    "data1 = [1, 2, 3, 4, 5]\n",
    "data2 = [2, 4, 6, 8, 10]\n",
    "\n",
    "f_value, p_value = variance_ratio_test(data1, data2)\n",
    "print(\"F-value:\", f_value)\n",
    "print(\"p-value:\", p_value)"
   ]
  },
  {
   "cell_type": "code",
   "execution_count": 6,
   "id": "fe778a6c-a6b8-4033-9f91-2d225fe781ef",
   "metadata": {},
   "outputs": [],
   "source": [
    "# Q2. Given a significance level of 0.05 and the degrees of freedom for the numerator and denominator of an \n",
    "# F-distribution, write a Python function that returns the critical F-value for a two-tailed test\n",
    "\n",
    "from scipy.stats import f\n",
    "\n",
    "def critical_f_value(alpha, df_num, df_denom):\n",
    "    # Calculate the critical F-value\n",
    "    f_critical = f.ppf(1 - alpha / 2, df_num, df_denom)\n",
    "    \n",
    "    return f_critical\n",
    "\n"
   ]
  },
  {
   "cell_type": "code",
   "execution_count": 7,
   "id": "218853da-d571-4bd5-8772-d93249fa57d1",
   "metadata": {},
   "outputs": [
    {
     "name": "stdout",
     "output_type": "stream",
     "text": [
      "Critical F-value: 3.8586986662732143\n"
     ]
    }
   ],
   "source": [
    "alpha = 0.05\n",
    "df_num = 3\n",
    "df_denom = 20\n",
    "\n",
    "f_critical = critical_f_value(alpha, df_num, df_denom)\n",
    "print(\"Critical F-value:\", f_critical)\n"
   ]
  },
  {
   "cell_type": "code",
   "execution_count": 8,
   "id": "30d2db98-4100-4a6e-901a-53da9fb90c21",
   "metadata": {},
   "outputs": [
    {
     "name": "stdout",
     "output_type": "stream",
     "text": [
      "F-value: 0.6913013016599484\n",
      "Degrees of Freedom: 49 , 49\n",
      "p-value: 0.9000697598978527\n"
     ]
    }
   ],
   "source": [
    "# Q3. Write a Python program that generates random samples from two normal distributions with known \n",
    "# variances and uses an F-test to determine if the variances are equal. The program should output the F\u0002value, degrees of freedom, and p-value for the test.\n",
    "\n",
    "import numpy as np\n",
    "from scipy.stats import f\n",
    "\n",
    "def f_test_for_equal_variances(variance1, variance2, sample_size1, sample_size2):\n",
    "    # Generate random samples from two normal distributions with known variances\n",
    "    sample1 = np.random.normal(loc=0, scale=np.sqrt(variance1), size=sample_size1)\n",
    "    sample2 = np.random.normal(loc=0, scale=np.sqrt(variance2), size=sample_size2)\n",
    "    \n",
    "    # Calculate the sample variances\n",
    "    var1 = np.var(sample1, ddof=1)\n",
    "    var2 = np.var(sample2, ddof=1)\n",
    "    \n",
    "    # Calculate the degrees of freedom\n",
    "    df1 = sample_size1 - 1\n",
    "    df2 = sample_size2 - 1\n",
    "    \n",
    "    # Calculate the F-value\n",
    "    f_value = var1 / var2\n",
    "    \n",
    "    # Calculate the p-value\n",
    "    p_value = 1 - f.cdf(f_value, df1, df2)\n",
    "    \n",
    "    # Output the results\n",
    "    print(\"F-value:\", f_value)\n",
    "    print(\"Degrees of Freedom:\", df1, \",\", df2)\n",
    "    print(\"p-value:\", p_value)\n",
    "\n",
    "# Example usage\n",
    "variance1 = 10\n",
    "variance2 = 15\n",
    "sample_size1 = 50\n",
    "sample_size2 = 50\n",
    "\n",
    "f_test_for_equal_variances(variance1, variance2, sample_size1, sample_size2)\n"
   ]
  },
  {
   "cell_type": "code",
   "execution_count": 9,
   "id": "5f22cbf4-0c28-4956-bf0d-45d2d1911e2f",
   "metadata": {},
   "outputs": [
    {
     "name": "stdout",
     "output_type": "stream",
     "text": [
      "F-value: 0.6666666666666666\n",
      "Critical F-value: 3.473699051085809\n",
      "Degrees of Freedom: 11 , 11\n",
      "p-value: 0.5123897987357996\n",
      "Result: Variances are not significantly different\n"
     ]
    }
   ],
   "source": [
    "# Q4.The variances of two populations are known to be 10 and 15. A sample of 12 observations is taken from \n",
    "# each population. Conduct an F-test at the 5% significance level to determine if the variances are \n",
    "# significantly different\n",
    "\n",
    "import numpy as np\n",
    "from scipy.stats import f\n",
    "\n",
    "def f_test(variance1, variance2, sample_size1, sample_size2, alpha):\n",
    "    # Calculate the F-value\n",
    "    f_value = variance1 / variance2\n",
    "\n",
    "    # Calculate the degrees of freedom\n",
    "    df1 = sample_size1 - 1\n",
    "    df2 = sample_size2 - 1\n",
    "\n",
    "    # Calculate the critical F-value\n",
    "    critical_f = f.ppf(1 - alpha / 2, df1, df2)\n",
    "\n",
    "    # Calculate the p-value\n",
    "    p_value = 2 * min(f.cdf(f_value, df1, df2), 1 - f.cdf(f_value, df1, df2))\n",
    "\n",
    "    # Determine if the variances are significantly different\n",
    "    if f_value > critical_f:\n",
    "        result = \"Variances are significantly different\"\n",
    "    else:\n",
    "        result = \"Variances are not significantly different\"\n",
    "\n",
    "    # Output the results\n",
    "    print(\"F-value:\", f_value)\n",
    "    print(\"Critical F-value:\", critical_f)\n",
    "    print(\"Degrees of Freedom:\", df1, \",\", df2)\n",
    "    print(\"p-value:\", p_value)\n",
    "    print(\"Result:\", result)\n",
    "\n",
    "# Example usage\n",
    "variance1 = 10\n",
    "variance2 = 15\n",
    "sample_size1 = 12\n",
    "sample_size2 = 12\n",
    "alpha = 0.05\n",
    "\n",
    "f_test(variance1, variance2, sample_size1, sample_size2, alpha)\n"
   ]
  },
  {
   "cell_type": "code",
   "execution_count": 11,
   "id": "642455ac-f0c7-4356-bbe9-ccda9482dc06",
   "metadata": {},
   "outputs": [
    {
     "name": "stdout",
     "output_type": "stream",
     "text": [
      "F-value: 1.2\n",
      "Critical F-value: 2.659072104348157\n",
      "Degrees of Freedom: 24 , 24\n",
      "Result: The claim is justified\n"
     ]
    }
   ],
   "source": [
    "from scipy.stats import f\n",
    "\n",
    "def f_test(claim_variance, sample_variance, sample_size, alpha):\n",
    "    # Calculate the F-value\n",
    "    f_value = sample_variance / claim_variance\n",
    "\n",
    "    # Calculate the degrees of freedom\n",
    "    df1 = sample_size - 1\n",
    "    df2 = sample_size - 1\n",
    "\n",
    "    # Calculate the critical F-value\n",
    "    critical_f = f.ppf(1 - alpha, df1, df2)\n",
    "\n",
    "    # Calculate the p-value\n",
    "    #p_value = 1 - f.cdf(f_value, df1, df2)\n",
    "\n",
    "    # Determine if the claim is justified\n",
    "    if f_value < critical_f:\n",
    "        result = \"The claim is justified\"\n",
    "    else:\n",
    "        result = \"The claim is not justified\"\n",
    "\n",
    "    # Output the results\n",
    "    print(\"F-value:\", f_value)\n",
    "    print(\"Critical F-value:\", critical_f)\n",
    "    print(\"Degrees of Freedom:\", df1, \",\", df2)\n",
    "    #print(\"p-value:\", p_value)\n",
    "    print(\"Result:\", result)\n",
    "\n",
    "# Example usage\n",
    "claim_variance = 0.005\n",
    "sample_variance = 0.006\n",
    "sample_size = 25\n",
    "alpha = 0.01\n",
    "\n",
    "f_test(claim_variance, sample_variance, sample_size, alpha)\n"
   ]
  },
  {
   "cell_type": "code",
   "execution_count": 12,
   "id": "d4d244a0-203f-4aff-88f6-ded7cce9cd12",
   "metadata": {},
   "outputs": [
    {
     "name": "stdout",
     "output_type": "stream",
     "text": [
      "Mean: 1.1538461538461537\n",
      "Variance: 0.556750941366326\n"
     ]
    }
   ],
   "source": [
    "# Q6. Write a Python function that takes in the degrees of freedom for the numerator and denominator of an \n",
    "# F-distribution and calculates the mean and variance of the distribution. The function should return the \n",
    "# mean and variance as a tuple.\n",
    "\n",
    "def f_distribution_mean_variance(df1, df2):\n",
    "    # Calculate the mean of the F-distribution\n",
    "    if df2 > 2:\n",
    "        mean = df2 / (df2 - 2)\n",
    "    else:\n",
    "        mean = float('inf')\n",
    "\n",
    "    # Calculate the variance of the F-distribution\n",
    "    if df2 > 4:\n",
    "        variance = (2 * (df2 ** 2) * (df1 + df2 - 2)) / ((df1 * (df2 - 2) ** 2 * (df2 - 4)))\n",
    "    else:\n",
    "        variance = float('inf')\n",
    "\n",
    "    return mean, variance\n",
    "\n",
    "# Example usage\n",
    "df1 = 10\n",
    "df2 = 15\n",
    "\n",
    "mean, variance = f_distribution_mean_variance(df1, df2)\n",
    "print(\"Mean:\", mean)\n",
    "print(\"Variance:\", variance)\n"
   ]
  },
  {
   "cell_type": "code",
   "execution_count": 13,
   "id": "32c638e4-228e-4d24-b221-22f65356f1f0",
   "metadata": {},
   "outputs": [
    {
     "name": "stdout",
     "output_type": "stream",
     "text": [
      "F-value: 1.25\n",
      "Critical F-value: 2.121954566976902\n",
      "Degrees of Freedom: 9 , 14\n",
      "p-value: 0.3416097191292977\n",
      "Result: Variances are not significantly different\n"
     ]
    }
   ],
   "source": [
    "# Q7. A random sample of 10 measurements is taken from a normal population with unknown variance. The \n",
    "# sample variance is found to be 25. Another random sample of 15 measurements is taken from another \n",
    "# normal population with unknown variance, and the sample variance is found to be 20. Conduct an F-test \n",
    "# at the 10% significance level to determine if the variances are significantly different\n",
    "\n",
    "from scipy.stats import f\n",
    "\n",
    "def f_test(sample_variance1, sample_variance2, sample_size1, sample_size2, alpha):\n",
    "    # Calculate the F-value\n",
    "    f_value = sample_variance1 / sample_variance2\n",
    "\n",
    "    # Calculate the degrees of freedom\n",
    "    df1 = sample_size1 - 1\n",
    "    df2 = sample_size2 - 1\n",
    "\n",
    "    # Calculate the critical F-value\n",
    "    critical_f = f.ppf(1 - alpha, df1, df2)\n",
    "\n",
    "    # Calculate the p-value\n",
    "    p_value = 1 - f.cdf(f_value, df1, df2)\n",
    "\n",
    "    # Determine if the variances are significantly different\n",
    "    if f_value > critical_f:\n",
    "        result = \"Variances are significantly different\"\n",
    "    else:\n",
    "        result = \"Variances are not significantly different\"\n",
    "\n",
    "    # Output the results\n",
    "    print(\"F-value:\", f_value)\n",
    "    print(\"Critical F-value:\", critical_f)\n",
    "    print(\"Degrees of Freedom:\", df1, \",\", df2)\n",
    "    print(\"p-value:\", p_value)\n",
    "    print(\"Result:\", result)\n",
    "\n",
    "# Example usage\n",
    "sample_variance1 = 25\n",
    "sample_variance2 = 20\n",
    "sample_size1 = 10\n",
    "sample_size2 = 15\n",
    "alpha = 0.10\n",
    "\n",
    "f_test(sample_variance1, sample_variance2, sample_size1, sample_size2, alpha)\n"
   ]
  },
  {
   "cell_type": "code",
   "execution_count": 14,
   "id": "70fbad73-85b7-478b-af45-ff9abaca6117",
   "metadata": {},
   "outputs": [
    {
     "name": "stdout",
     "output_type": "stream",
     "text": [
      "F-value: 1.4551907719609583\n",
      "Critical F-value: 4.950288068694318\n",
      "Degrees of Freedom: 6 , 5\n",
      "p-value: 0.3487407873968742\n",
      "Result: Variances are not significantly different\n"
     ]
    }
   ],
   "source": [
    "# Q8. The following data represent the waiting times in minutes at two different restaurants on a Saturday \n",
    "# night: Restaurant A: 24, 25, 28, 23, 22, 20, 27; Restaurant B: 31, 33, 35, 30, 32, 36. Conduct an F-test at the 5% \n",
    "# significance level to determine if the variances are significantly different\n",
    "\n",
    "import numpy as np\n",
    "from scipy.stats import f\n",
    "\n",
    "def f_test(data1, data2, alpha):\n",
    "    # Calculate the sample variances\n",
    "    sample_variance1 = np.var(data1, ddof=1)\n",
    "    sample_variance2 = np.var(data2, ddof=1)\n",
    "\n",
    "    # Calculate the sample sizes\n",
    "    sample_size1 = len(data1)\n",
    "    sample_size2 = len(data2)\n",
    "\n",
    "    # Calculate the F-value\n",
    "    f_value = sample_variance1 / sample_variance2\n",
    "\n",
    "    # Calculate the degrees of freedom\n",
    "    df1 = sample_size1 - 1\n",
    "    df2 = sample_size2 - 1\n",
    "\n",
    "    # Calculate the critical F-value\n",
    "    critical_f = f.ppf(1 - alpha, df1, df2)\n",
    "\n",
    "    # Calculate the p-value\n",
    "    p_value = 1 - f.cdf(f_value, df1, df2)\n",
    "\n",
    "    # Determine if the variances are significantly different\n",
    "    if f_value > critical_f:\n",
    "        result = \"Variances are significantly different\"\n",
    "    else:\n",
    "        result = \"Variances are not significantly different\"\n",
    "\n",
    "    # Output the results\n",
    "    print(\"F-value:\", f_value)\n",
    "    print(\"Critical F-value:\", critical_f)\n",
    "    print(\"Degrees of Freedom:\", df1, \",\", df2)\n",
    "    print(\"p-value:\", p_value)\n",
    "    print(\"Result:\", result)\n",
    "\n",
    "# Example usage\n",
    "data1 = [24, 25, 28, 23, 22, 20, 27]\n",
    "data2 = [31, 33, 35, 30, 32, 36]\n",
    "alpha = 0.05\n",
    "\n",
    "f_test(data1, data2, alpha)\n"
   ]
  },
  {
   "cell_type": "code",
   "execution_count": 15,
   "id": "ab234779-bad7-446e-8a39-d493cce157b1",
   "metadata": {},
   "outputs": [
    {
     "name": "stdout",
     "output_type": "stream",
     "text": [
      "F-value: 1.9442622950819677\n",
      "Critical F-value: 10.967020650907992\n",
      "Degrees of Freedom: 5 , 5\n",
      "p-value: 0.2415521774535344\n",
      "Result: Variances are not significantly different\n"
     ]
    }
   ],
   "source": [
    "# Q9. The following data represent the test scores of two groups of students: Group A: 80, 85, 90, 92, 87, 83; \n",
    "# Group B: 75, 78, 82, 79, 81, 84. Conduct an F-test at the 1% significance level to determine if the variances \n",
    "# are significantly different\n",
    "\n",
    "import numpy as np\n",
    "from scipy.stats import f\n",
    "\n",
    "def f_test(data1, data2, alpha):\n",
    "    # Calculate the sample variances\n",
    "    sample_variance1 = np.var(data1, ddof=1)\n",
    "    sample_variance2 = np.var(data2, ddof=1)\n",
    "\n",
    "    # Calculate the sample sizes\n",
    "    sample_size1 = len(data1)\n",
    "    sample_size2 = len(data2)\n",
    "\n",
    "    # Calculate the F-value\n",
    "    f_value = sample_variance1 / sample_variance2\n",
    "\n",
    "    # Calculate the degrees of freedom\n",
    "    df1 = sample_size1 - 1\n",
    "    df2 = sample_size2 - 1\n",
    "\n",
    "    # Calculate the critical F-value\n",
    "    critical_f = f.ppf(1 - alpha, df1, df2)\n",
    "\n",
    "    # Calculate the p-value\n",
    "   # p_value = 1 - f.cdf(f_value, df1, df2)\n",
    "\n",
    "    # Determine if the variances are significantly different\n",
    "    if f_value > critical_f:\n",
    "        result = \"Variances are significantly different\"\n",
    "    else:\n",
    "        result = \"Variances are not significantly different\"\n",
    "\n",
    "    # Output the results\n",
    "    print(\"F-value:\", f_value)\n",
    "    print(\"Critical F-value:\", critical_f)\n",
    "    print(\"Degrees of Freedom:\", df1, \",\", df2)\n",
    "    #print(\"p-value:\", p_value)\n",
    "    print(\"Result:\", result)\n",
    "\n",
    "# Example usage\n",
    "data1 = [80, 85, 90, 92, 87, 83]\n",
    "data2 = [75, 78, 82, 79, 81, 84]\n",
    "alpha = 0.01\n",
    "\n",
    "f_test(data1, data2, alpha)\n"
   ]
  },
  {
   "cell_type": "code",
   "execution_count": 16,
   "id": "add0decc-daa6-450c-af3d-f11c8fa0138a",
   "metadata": {},
   "outputs": [],
   "source": [
    "\n"
   ]
  },
  {
   "cell_type": "code",
   "execution_count": 17,
   "id": "17d3d491-3c51-4bd8-99ba-fefa65fb1b8a",
   "metadata": {},
   "outputs": [
    {
     "data": {
      "text/plain": [
       "6"
      ]
     },
     "execution_count": 17,
     "metadata": {},
     "output_type": "execute_result"
    }
   ],
   "source": []
  },
  {
   "cell_type": "code",
   "execution_count": null,
   "id": "35dd9870-ac2f-485c-b1da-1de19a9e534c",
   "metadata": {},
   "outputs": [],
   "source": []
  }
 ],
 "metadata": {
  "kernelspec": {
   "display_name": "Python 3 (ipykernel)",
   "language": "python",
   "name": "python3"
  },
  "language_info": {
   "codemirror_mode": {
    "name": "ipython",
    "version": 3
   },
   "file_extension": ".py",
   "mimetype": "text/x-python",
   "name": "python",
   "nbconvert_exporter": "python",
   "pygments_lexer": "ipython3",
   "version": "3.10.8"
  }
 },
 "nbformat": 4,
 "nbformat_minor": 5
}
